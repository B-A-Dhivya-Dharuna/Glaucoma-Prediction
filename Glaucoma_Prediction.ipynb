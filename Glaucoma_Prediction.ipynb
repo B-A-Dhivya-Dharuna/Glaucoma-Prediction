{
  "nbformat": 4,
  "nbformat_minor": 0,
  "metadata": {
    "colab": {
      "provenance": [],
      "authorship_tag": "ABX9TyMCKPGvEPruTURxhdN9Jrrv",
      "include_colab_link": true
    },
    "kernelspec": {
      "name": "python3",
      "display_name": "Python 3"
    },
    "language_info": {
      "name": "python"
    }
  },
  "cells": [
    {
      "cell_type": "markdown",
      "metadata": {
        "id": "view-in-github",
        "colab_type": "text"
      },
      "source": [
        "<a href=\"https://colab.research.google.com/github/B-A-Dhivya-Dharuna/Glaucoma-Prediction/blob/main/Glaucoma_Prediction.ipynb\" target=\"_parent\"><img src=\"https://colab.research.google.com/assets/colab-badge.svg\" alt=\"Open In Colab\"/></a>"
      ]
    },
    {
      "cell_type": "markdown",
      "source": [
        "# **Predicting Glaucoma Risk Using Machine Learning: A Comprehensive Analysis**\n",
        "\n",
        "Using the dataset given in this link [Human Glaucoma](https://www.kaggle.com/datasets/gchan357/human-glaucoma), I employed various machine learning techniques such as Random Forest and Gradient Boosting to predict the risk of glaucoma, addressing class imbalance through SMOTE to enhance model performance and accuracy in identifying high-risk patients\n",
        "\n",
        "\n",
        "**Summary of Steps Taken**\n",
        "\n",
        "\n",
        "1.   Data Preparation:\n",
        "\n",
        "*   The dataset was loaded, and relevant features were selected for modeling. The risk_factor column was dropped to assess its impact on model performance.\n",
        "*   The data was split into training and testing sets to enable model training and evaluation.\n",
        "\n",
        "\n",
        "2.   Model Training and Evaluation:\n",
        "\n",
        "\n",
        "\n",
        "*   Random Forest Classifier: This model was first trained on the original dataset to establish a baseline performance. It was evaluated using accuracy metrics and a classification report.\n",
        "*   Feature Importance Analysis: The importance of each feature was analyzed to understand their contributions to the model's predictions. A bar plot visualized the feature importances.\n",
        "\n",
        "\n",
        "3. Hyperparameter Tuning:\n",
        "\n",
        "* Grid Search was employed to tune the hyperparameters of the Random Forest model. This involved testing various combinations of parameters (like n_estimators, max_depth, etc.) to identify the optimal settings that improve model performance.\n",
        "\n",
        "\n",
        "4. Model Selection:\n",
        "\n",
        "* After identifying the best parameters, the model was retrained with the selected features and evaluated again using accuracy and cross-validation scores.\n",
        "\n",
        "\n",
        "5. Handling Class Imbalance:\n",
        "\n",
        "* **SMOTE (Synthetic Minority Over-sampling Technique)**: This technique was applied to address class imbalance in the dataset. It generated synthetic samples for the minority class to improve model training.\n",
        "* The model's performance after applying SMOTE was evaluated, comparing accuracy and classification metrics with the baseline model.\n",
        "\n",
        "\n",
        "6. Alternative Model Testing:\n",
        "\n",
        "* A Gradient Boosting Classifier was also trained on the dataset. This model was evaluated similarly to the Random Forest model to compare their performances in predicting glaucoma.\n",
        "\n",
        "\n",
        "7. Performance Metrics:\n",
        "\n",
        "* Throughout the process, metrics such as accuracy, classification reports, ROC AUC scores, and confusion matrices were used to evaluate model performance and provide insights into the predictions made by the models.\n",
        "\n",
        "# **Rationale for Methods Used**\n",
        "\n",
        "* **Random Forest**: A robust ensemble method that handles large datasets with high dimensionality well. It is effective for both classification and regression tasks, providing insights through feature importance.\n",
        "\n",
        "* **Hyperparameter** Tuning: Necessary to optimize model performance, as default settings may not yield the best results. Grid Search automates this process by testing various parameter combinations.\n",
        "\n",
        "* **SMOTE**: Essential for improving model performance in cases of class imbalance, ensuring the model learns effectively from underrepresented classes.\n",
        "\n",
        "* **Gradient Boosting**: Another powerful ensemble technique that can lead to better performance through boosting, where weak learners are combined to form a strong learner. Testing multiple models allows for a comprehensive understanding of which algorithm works best for the specific dataset.\n",
        "\n",
        "* **Cross-Validation**: Utilized to provide a more reliable estimate of model performance, reducing the risk of overfitting by validating the model on unseen data.\n",
        "\n",
        "Overall, these methods were chosen to build a robust model capable of accurately predicting glaucoma risk based on available features, while also ensuring that the insights gained from the analysis could inform future clinical decisions. If you need more details on specific parts or additional assistance, feel free to ask!"
      ],
      "metadata": {
        "id": "zCm_wDTgxZzX"
      }
    },
    {
      "cell_type": "markdown",
      "source": [
        "#  Install Required Packages"
      ],
      "metadata": {
        "id": "KTUWSpFchcez"
      }
    },
    {
      "cell_type": "code",
      "source": [
        "pip install pandas openpyxl"
      ],
      "metadata": {
        "colab": {
          "base_uri": "https://localhost:8080/"
        },
        "id": "P517xWcPIMId",
        "outputId": "b57990d4-7d60-4d89-c2ab-c587fa7baea9"
      },
      "execution_count": null,
      "outputs": [
        {
          "output_type": "stream",
          "name": "stdout",
          "text": [
            "Requirement already satisfied: pandas in /usr/local/lib/python3.10/dist-packages (2.2.2)\n",
            "Requirement already satisfied: openpyxl in /usr/local/lib/python3.10/dist-packages (3.1.5)\n",
            "Requirement already satisfied: numpy>=1.22.4 in /usr/local/lib/python3.10/dist-packages (from pandas) (1.26.4)\n",
            "Requirement already satisfied: python-dateutil>=2.8.2 in /usr/local/lib/python3.10/dist-packages (from pandas) (2.8.2)\n",
            "Requirement already satisfied: pytz>=2020.1 in /usr/local/lib/python3.10/dist-packages (from pandas) (2024.2)\n",
            "Requirement already satisfied: tzdata>=2022.7 in /usr/local/lib/python3.10/dist-packages (from pandas) (2024.2)\n",
            "Requirement already satisfied: et-xmlfile in /usr/local/lib/python3.10/dist-packages (from openpyxl) (2.0.0)\n",
            "Requirement already satisfied: six>=1.5 in /usr/local/lib/python3.10/dist-packages (from python-dateutil>=2.8.2->pandas) (1.16.0)\n"
          ]
        }
      ]
    },
    {
      "cell_type": "markdown",
      "source": [
        "# Load and Preview Dataset"
      ],
      "metadata": {
        "id": "iiPygk62mB9g"
      }
    },
    {
      "cell_type": "code",
      "source": [
        "import pandas as pd\n",
        "\n",
        "# Load Excel file\n",
        "file_path = \"/content/ds_whole.csv\"  # Replace with your actual file path\n",
        "data = pd.read_csv(file_path)\n",
        "\n",
        "# Display the first few rows\n",
        "print(data.head())\n"
      ],
      "metadata": {
        "colab": {
          "base_uri": "https://localhost:8080/"
        },
        "id": "KbOD1Xl_IM5n",
        "outputId": "13ffd90e-c2b2-4fa2-f212-d0ca5fc30f10"
      },
      "execution_count": null,
      "outputs": [
        {
          "output_type": "stream",
          "name": "stdout",
          "text": [
            "   RL  glaucoma  age  ocular_pressure    MD   PSD  GHT  cornea_thickness  \\\n",
            "0  OD         0   62               17 -0.54  1.81    0               558   \n",
            "1  OS         0   62               17 -0.64  1.38    0               564   \n",
            "2  OD         0   66               12 -1.65  2.89    2               490   \n",
            "3  OS         0   66               12 -1.14  3.88    2               495   \n",
            "4  OD         1   53               24 -2.90  3.78    2               547   \n",
            "\n",
            "   RNFL4.mean  \n",
            "0  103.333333  \n",
            "1  107.666667  \n",
            "2  162.000000  \n",
            "3   99.000000  \n",
            "4   74.666667  \n"
          ]
        }
      ]
    },
    {
      "cell_type": "markdown",
      "source": [
        "# 📊 Data Overview and Summary Statistics"
      ],
      "metadata": {
        "id": "ig2gk9xTmSMV"
      }
    },
    {
      "cell_type": "code",
      "source": [
        "# Check data types and non-null counts\n",
        "print(data.info())\n",
        "\n",
        "# Get summary statistics for numeric columns\n",
        "print(data.describe())"
      ],
      "metadata": {
        "colab": {
          "base_uri": "https://localhost:8080/"
        },
        "id": "zVLeqvUUIZhG",
        "outputId": "6ddc04fc-a663-4ae7-bf11-a18d3b6e35c5"
      },
      "execution_count": null,
      "outputs": [
        {
          "output_type": "stream",
          "name": "stdout",
          "text": [
            "<class 'pandas.core.frame.DataFrame'>\n",
            "RangeIndex: 499 entries, 0 to 498\n",
            "Data columns (total 9 columns):\n",
            " #   Column            Non-Null Count  Dtype  \n",
            "---  ------            --------------  -----  \n",
            " 0   RL                499 non-null    object \n",
            " 1   glaucoma          499 non-null    int64  \n",
            " 2   age               499 non-null    int64  \n",
            " 3   ocular_pressure   499 non-null    int64  \n",
            " 4   MD                499 non-null    float64\n",
            " 5   PSD               499 non-null    float64\n",
            " 6   GHT               499 non-null    int64  \n",
            " 7   cornea_thickness  499 non-null    int64  \n",
            " 8   RNFL4.mean        499 non-null    float64\n",
            "dtypes: float64(3), int64(5), object(1)\n",
            "memory usage: 35.2+ KB\n",
            "None\n",
            "         glaucoma         age  ocular_pressure          MD         PSD  \\\n",
            "count  499.000000  499.000000       499.000000  499.000000  499.000000   \n",
            "mean     0.595190   56.845691        20.963928   -8.661383    5.512084   \n",
            "std      0.491348   15.408306         8.546982   10.296883    4.262622   \n",
            "min      0.000000    8.000000         8.000000  -32.510000   -1.590000   \n",
            "25%      0.000000   47.000000        15.000000  -14.725000    2.075000   \n",
            "50%      1.000000   57.000000        18.000000   -4.020000    3.240000   \n",
            "75%      1.000000   67.000000        25.000000   -1.740000    9.355000   \n",
            "max      1.000000   87.000000        65.000000   32.690000   17.120000   \n",
            "\n",
            "              GHT  cornea_thickness  RNFL4.mean  \n",
            "count  499.000000        499.000000  499.000000  \n",
            "mean     1.248497        540.308617   82.551770  \n",
            "std      0.930503         33.594752   25.779878  \n",
            "min      0.000000        445.000000   16.000000  \n",
            "25%      0.000000        519.000000   62.333333  \n",
            "50%      2.000000        542.000000   86.666667  \n",
            "75%      2.000000        563.500000  102.000000  \n",
            "max      2.000000        625.000000  162.000000  \n"
          ]
        }
      ]
    },
    {
      "cell_type": "markdown",
      "source": [
        "# 🔍 Missing Values Check"
      ],
      "metadata": {
        "id": "Df-LmE_5maIS"
      }
    },
    {
      "cell_type": "code",
      "source": [
        "# Check for any missing values in each column\n",
        "print(data.isnull().sum())"
      ],
      "metadata": {
        "colab": {
          "base_uri": "https://localhost:8080/"
        },
        "id": "DLmoRxV_IcA_",
        "outputId": "7e86d47a-2b9a-41b3-edbd-9f0b70e68487"
      },
      "execution_count": null,
      "outputs": [
        {
          "output_type": "stream",
          "name": "stdout",
          "text": [
            "RL                  0\n",
            "glaucoma            0\n",
            "age                 0\n",
            "ocular_pressure     0\n",
            "MD                  0\n",
            "PSD                 0\n",
            "GHT                 0\n",
            "cornea_thickness    0\n",
            "RNFL4.mean          0\n",
            "dtype: int64\n"
          ]
        }
      ]
    },
    {
      "cell_type": "markdown",
      "source": [
        "# 🚫 Remove Missing Values"
      ],
      "metadata": {
        "id": "R0aO_UE1mhEy"
      }
    },
    {
      "cell_type": "code",
      "source": [
        "data = data.dropna()"
      ],
      "metadata": {
        "id": "Jrp_cHNLIkfp"
      },
      "execution_count": null,
      "outputs": []
    },
    {
      "cell_type": "markdown",
      "source": [
        "# 🔧 Fill Missing Values in Specific Columns with Mean"
      ],
      "metadata": {
        "id": "nLpaNEEAmnY5"
      }
    },
    {
      "cell_type": "code",
      "source": [
        "data['ocular_pressure'].fillna(data['ocular_pressure'].mean(), inplace=True)\n",
        "data['cornea_thickness'].fillna(data['cornea_thickness'].mean(), inplace=True)"
      ],
      "metadata": {
        "id": "gXDApWFDIuaE",
        "outputId": "be3e8035-fb2a-475d-d9b9-77fc5bcc2eac",
        "colab": {
          "base_uri": "https://localhost:8080/"
        }
      },
      "execution_count": null,
      "outputs": [
        {
          "output_type": "stream",
          "name": "stderr",
          "text": [
            "<ipython-input-6-fe4947d45a20>:1: FutureWarning: A value is trying to be set on a copy of a DataFrame or Series through chained assignment using an inplace method.\n",
            "The behavior will change in pandas 3.0. This inplace method will never work because the intermediate object on which we are setting values always behaves as a copy.\n",
            "\n",
            "For example, when doing 'df[col].method(value, inplace=True)', try using 'df.method({col: value}, inplace=True)' or df[col] = df[col].method(value) instead, to perform the operation inplace on the original object.\n",
            "\n",
            "\n",
            "  data['ocular_pressure'].fillna(data['ocular_pressure'].mean(), inplace=True)\n",
            "<ipython-input-6-fe4947d45a20>:2: FutureWarning: A value is trying to be set on a copy of a DataFrame or Series through chained assignment using an inplace method.\n",
            "The behavior will change in pandas 3.0. This inplace method will never work because the intermediate object on which we are setting values always behaves as a copy.\n",
            "\n",
            "For example, when doing 'df[col].method(value, inplace=True)', try using 'df.method({col: value}, inplace=True)' or df[col] = df[col].method(value) instead, to perform the operation inplace on the original object.\n",
            "\n",
            "\n",
            "  data['cornea_thickness'].fillna(data['cornea_thickness'].mean(), inplace=True)\n"
          ]
        }
      ]
    },
    {
      "cell_type": "code",
      "source": [
        "data['ocular_pressure'] = data['ocular_pressure'].fillna(data['ocular_pressure'].mean())\n",
        "data['cornea_thickness'] = data['cornea_thickness'].fillna(data['cornea_thickness'].mean())"
      ],
      "metadata": {
        "id": "owbT6zISIxU1"
      },
      "execution_count": null,
      "outputs": []
    },
    {
      "cell_type": "markdown",
      "source": [
        "# 🔧 Fill Missing Values in 'ocular_pressure' with Median"
      ],
      "metadata": {
        "id": "J_JSlaTPmw2K"
      }
    },
    {
      "cell_type": "code",
      "source": [
        "data['ocular_pressure'].fillna(data['ocular_pressure'].median(), inplace=True)"
      ],
      "metadata": {
        "colab": {
          "base_uri": "https://localhost:8080/"
        },
        "id": "1VoUSFd-egeR",
        "outputId": "f4e46909-e4ef-4f15-cdfa-9787c1994b4b"
      },
      "execution_count": null,
      "outputs": [
        {
          "output_type": "stream",
          "name": "stderr",
          "text": [
            "<ipython-input-8-3943937cd651>:1: FutureWarning: A value is trying to be set on a copy of a DataFrame or Series through chained assignment using an inplace method.\n",
            "The behavior will change in pandas 3.0. This inplace method will never work because the intermediate object on which we are setting values always behaves as a copy.\n",
            "\n",
            "For example, when doing 'df[col].method(value, inplace=True)', try using 'df.method({col: value}, inplace=True)' or df[col] = df[col].method(value) instead, to perform the operation inplace on the original object.\n",
            "\n",
            "\n",
            "  data['ocular_pressure'].fillna(data['ocular_pressure'].median(), inplace=True)\n"
          ]
        }
      ]
    },
    {
      "cell_type": "code",
      "source": [
        "data['ocular_pressure'].fillna(data['ocular_pressure'].median())"
      ],
      "metadata": {
        "colab": {
          "base_uri": "https://localhost:8080/",
          "height": 458
        },
        "id": "3cr8PzavemjO",
        "outputId": "2ed28a0e-483a-461a-d330-03b5550ff582"
      },
      "execution_count": null,
      "outputs": [
        {
          "output_type": "execute_result",
          "data": {
            "text/plain": [
              "0      17\n",
              "1      17\n",
              "2      12\n",
              "3      12\n",
              "4      24\n",
              "       ..\n",
              "494    15\n",
              "495    15\n",
              "496    16\n",
              "497    18\n",
              "498    18\n",
              "Name: ocular_pressure, Length: 499, dtype: int64"
            ],
            "text/html": [
              "<div>\n",
              "<style scoped>\n",
              "    .dataframe tbody tr th:only-of-type {\n",
              "        vertical-align: middle;\n",
              "    }\n",
              "\n",
              "    .dataframe tbody tr th {\n",
              "        vertical-align: top;\n",
              "    }\n",
              "\n",
              "    .dataframe thead th {\n",
              "        text-align: right;\n",
              "    }\n",
              "</style>\n",
              "<table border=\"1\" class=\"dataframe\">\n",
              "  <thead>\n",
              "    <tr style=\"text-align: right;\">\n",
              "      <th></th>\n",
              "      <th>ocular_pressure</th>\n",
              "    </tr>\n",
              "  </thead>\n",
              "  <tbody>\n",
              "    <tr>\n",
              "      <th>0</th>\n",
              "      <td>17</td>\n",
              "    </tr>\n",
              "    <tr>\n",
              "      <th>1</th>\n",
              "      <td>17</td>\n",
              "    </tr>\n",
              "    <tr>\n",
              "      <th>2</th>\n",
              "      <td>12</td>\n",
              "    </tr>\n",
              "    <tr>\n",
              "      <th>3</th>\n",
              "      <td>12</td>\n",
              "    </tr>\n",
              "    <tr>\n",
              "      <th>4</th>\n",
              "      <td>24</td>\n",
              "    </tr>\n",
              "    <tr>\n",
              "      <th>...</th>\n",
              "      <td>...</td>\n",
              "    </tr>\n",
              "    <tr>\n",
              "      <th>494</th>\n",
              "      <td>15</td>\n",
              "    </tr>\n",
              "    <tr>\n",
              "      <th>495</th>\n",
              "      <td>15</td>\n",
              "    </tr>\n",
              "    <tr>\n",
              "      <th>496</th>\n",
              "      <td>16</td>\n",
              "    </tr>\n",
              "    <tr>\n",
              "      <th>497</th>\n",
              "      <td>18</td>\n",
              "    </tr>\n",
              "    <tr>\n",
              "      <th>498</th>\n",
              "      <td>18</td>\n",
              "    </tr>\n",
              "  </tbody>\n",
              "</table>\n",
              "<p>499 rows × 1 columns</p>\n",
              "</div><br><label><b>dtype:</b> int64</label>"
            ]
          },
          "metadata": {},
          "execution_count": 9
        }
      ]
    },
    {
      "cell_type": "markdown",
      "source": [
        "# 🔍 Display Unique Values in 'RL' Column"
      ],
      "metadata": {
        "id": "O565ov9Wm4h-"
      }
    },
    {
      "cell_type": "code",
      "source": [
        "print(data['RL'].unique())"
      ],
      "metadata": {
        "colab": {
          "base_uri": "https://localhost:8080/"
        },
        "id": "V1INT_o0epdX",
        "outputId": "f658484a-609d-43d1-ac0c-8d272ece5276"
      },
      "execution_count": null,
      "outputs": [
        {
          "output_type": "stream",
          "name": "stdout",
          "text": [
            "['OD' 'OS']\n"
          ]
        }
      ]
    },
    {
      "cell_type": "markdown",
      "source": [
        "\n",
        "\n",
        "# 🔄 Map 'RL' Values to Numeric: 'OD' to 1 and 'OS' to 0"
      ],
      "metadata": {
        "id": "8xomdkOMnEjZ"
      }
    },
    {
      "cell_type": "code",
      "source": [
        "data['RL'] = data['RL'].map({'OD': 1, 'OS': 0})"
      ],
      "metadata": {
        "id": "fRKxLKsvetKB"
      },
      "execution_count": null,
      "outputs": []
    },
    {
      "cell_type": "markdown",
      "source": [
        "# Display the first few rows of the cleaned DataFrame"
      ],
      "metadata": {
        "id": "iuI0EMlBnNXo"
      }
    },
    {
      "cell_type": "code",
      "source": [
        "print(data.head())"
      ],
      "metadata": {
        "colab": {
          "base_uri": "https://localhost:8080/"
        },
        "id": "ZB-bwMmOev7_",
        "outputId": "deb6d59e-d5a7-4c48-fbd8-057fb5313e72"
      },
      "execution_count": null,
      "outputs": [
        {
          "output_type": "stream",
          "name": "stdout",
          "text": [
            "   RL  glaucoma  age  ocular_pressure    MD   PSD  GHT  cornea_thickness  \\\n",
            "0   1         0   62               17 -0.54  1.81    0               558   \n",
            "1   0         0   62               17 -0.64  1.38    0               564   \n",
            "2   1         0   66               12 -1.65  2.89    2               490   \n",
            "3   0         0   66               12 -1.14  3.88    2               495   \n",
            "4   1         1   53               24 -2.90  3.78    2               547   \n",
            "\n",
            "   RNFL4.mean  \n",
            "0  103.333333  \n",
            "1  107.666667  \n",
            "2  162.000000  \n",
            "3   99.000000  \n",
            "4   74.666667  \n"
          ]
        }
      ]
    },
    {
      "cell_type": "markdown",
      "source": [
        "# Data Loading, Preprocessing, and Standardization for Glaucoma Risk Prediction"
      ],
      "metadata": {
        "id": "HIK5aJjOhkGN"
      }
    },
    {
      "cell_type": "code",
      "source": [
        "from sklearn.preprocessing import StandardScaler\n",
        "\n",
        "# Select columns to standardize\n",
        "columns_to_standardize = ['ocular_pressure', 'cornea_thickness', 'RNFL4.mean', 'MD', 'PSD']\n",
        "\n",
        "# Initialize StandardScaler\n",
        "scaler = StandardScaler()\n",
        "\n",
        "# Apply StandardScaler to selected columns\n",
        "data[columns_to_standardize] = scaler.fit_transform(data[columns_to_standardize])\n",
        "\n",
        "# Check the standardized values\n",
        "print(data.head())"
      ],
      "metadata": {
        "colab": {
          "base_uri": "https://localhost:8080/"
        },
        "id": "pNTVcjdteyLf",
        "outputId": "ebc33579-bc34-4875-b10d-02ae4da31a58"
      },
      "execution_count": null,
      "outputs": [
        {
          "output_type": "stream",
          "name": "stdout",
          "text": [
            "   RL  glaucoma  age  ocular_pressure        MD       PSD  GHT  \\\n",
            "0   1         0   62        -0.464246  0.789514 -0.869371    0   \n",
            "1   0         0   62        -0.464246  0.779793 -0.970349    0   \n",
            "2   1         0   66        -1.049835  0.681606 -0.615751    2   \n",
            "3   0         0   66        -1.049835  0.731185 -0.383267    2   \n",
            "4   1         1   53         0.355578  0.560088 -0.406750    2   \n",
            "\n",
            "   cornea_thickness  RNFL4.mean  \n",
            "0          0.527140    0.806925  \n",
            "1          0.705919    0.975183  \n",
            "2         -1.499017    3.084885  \n",
            "3         -1.350035    0.638666  \n",
            "4          0.199379   -0.306170  \n"
          ]
        }
      ]
    },
    {
      "cell_type": "markdown",
      "source": [
        "# Risk Factor Indicator and Age Grouping for Glaucoma Dataset"
      ],
      "metadata": {
        "id": "hOamZJ_unwqy"
      }
    },
    {
      "cell_type": "code",
      "source": [
        "# Risk Factor Indicator\n",
        "data['risk_factor'] = data['glaucoma'].apply(lambda x: 1 if x > 0 else 0)\n",
        "\n",
        "# Age Grouping\n",
        "data['age_group'] = pd.cut(data['age'], bins=[0, 40, 60, 100], labels=['under_40', '40-60', 'over_60'])"
      ],
      "metadata": {
        "id": "Z9abrOKSe2Fn"
      },
      "execution_count": null,
      "outputs": []
    },
    {
      "cell_type": "markdown",
      "source": [
        "# Splitting Data into Training and Testing Sets"
      ],
      "metadata": {
        "id": "HnDgNFoTn2qi"
      }
    },
    {
      "cell_type": "code",
      "source": [
        "from sklearn.model_selection import train_test_split\n",
        "\n",
        "# Define target variable and features\n",
        "X = data.drop(columns=['glaucoma'])\n",
        "y = data['glaucoma']\n",
        "\n",
        "# Split data\n",
        "X_train, X_test, y_train, y_test = train_test_split(X, y, test_size=0.2, random_state=42)"
      ],
      "metadata": {
        "id": "2FoKZGSbfh3U"
      },
      "execution_count": null,
      "outputs": []
    },
    {
      "cell_type": "markdown",
      "source": [
        "# Check Data Types of Each Column"
      ],
      "metadata": {
        "id": "qZhMPE4Mn-zb"
      }
    },
    {
      "cell_type": "code",
      "source": [
        "print(data.dtypes)"
      ],
      "metadata": {
        "id": "IKwFr3aqfkqh",
        "colab": {
          "base_uri": "https://localhost:8080/"
        },
        "outputId": "ff6514c8-2434-4309-8717-ce9e61a243ce"
      },
      "execution_count": null,
      "outputs": [
        {
          "output_type": "stream",
          "name": "stdout",
          "text": [
            "RL                     int64\n",
            "glaucoma               int64\n",
            "age                    int64\n",
            "ocular_pressure      float64\n",
            "MD                   float64\n",
            "PSD                  float64\n",
            "GHT                    int64\n",
            "cornea_thickness     float64\n",
            "RNFL4.mean           float64\n",
            "risk_factor            int64\n",
            "age_group           category\n",
            "dtype: object\n"
          ]
        }
      ]
    },
    {
      "cell_type": "markdown",
      "source": [
        "# One-Hot Encoding for Age Groups"
      ],
      "metadata": {
        "id": "-IZEvCDvoFbW"
      }
    },
    {
      "cell_type": "code",
      "source": [
        "data = pd.get_dummies(data, columns=['age_group'], prefix='age_group')"
      ],
      "metadata": {
        "id": "OIUFqqdShudU"
      },
      "execution_count": null,
      "outputs": []
    },
    {
      "cell_type": "markdown",
      "source": [
        "# Display Data Types of Each Column"
      ],
      "metadata": {
        "id": "sXKSVJsioNmA"
      }
    },
    {
      "cell_type": "code",
      "source": [
        "print(data.dtypes)"
      ],
      "metadata": {
        "colab": {
          "base_uri": "https://localhost:8080/"
        },
        "id": "R9FuVXeIiXjx",
        "outputId": "ae4a1656-9c08-4e9e-cc91-fe3da8963970"
      },
      "execution_count": null,
      "outputs": [
        {
          "output_type": "stream",
          "name": "stdout",
          "text": [
            "RL                      int64\n",
            "glaucoma                int64\n",
            "age                     int64\n",
            "ocular_pressure       float64\n",
            "MD                    float64\n",
            "PSD                   float64\n",
            "GHT                     int64\n",
            "cornea_thickness      float64\n",
            "RNFL4.mean            float64\n",
            "risk_factor             int64\n",
            "age_group_under_40       bool\n",
            "age_group_40-60          bool\n",
            "age_group_over_60        bool\n",
            "dtype: object\n"
          ]
        }
      ]
    },
    {
      "cell_type": "markdown",
      "source": [
        "# Define Feature Columns for Model Training"
      ],
      "metadata": {
        "id": "Tm0_DOPjoPKF"
      }
    },
    {
      "cell_type": "code",
      "source": [
        "# Define feature columns including the new age group columns\n",
        "feature_columns = [\n",
        "    'RL', 'ocular_pressure', 'MD', 'PSD', 'GHT', 'cornea_thickness',\n",
        "    'RNFL4.mean', 'risk_factor', 'age_group_under_40',\n",
        "    'age_group_40-60', 'age_group_over_60'\n",
        "]\n",
        "\n",
        "X = data[feature_columns]\n",
        "y = data['glaucoma']  # Assuming 'glaucoma' is the target variable"
      ],
      "metadata": {
        "id": "Ly-b8YJ6iaRX"
      },
      "execution_count": null,
      "outputs": []
    },
    {
      "cell_type": "markdown",
      "source": [
        "# Split Data into Training and Testing Sets"
      ],
      "metadata": {
        "id": "p17n8YrzoZhO"
      }
    },
    {
      "cell_type": "code",
      "source": [
        "from sklearn.model_selection import train_test_split\n",
        "\n",
        "X_train, X_test, y_train, y_test = train_test_split(X, y, test_size=0.2, random_state=42)"
      ],
      "metadata": {
        "id": "2Cok04FNi8Uj"
      },
      "execution_count": null,
      "outputs": []
    },
    {
      "cell_type": "markdown",
      "source": [
        "# Train RandomForest Model without 'risk_factor' and Evaluate Performance"
      ],
      "metadata": {
        "id": "ban_0KoSocNV"
      }
    },
    {
      "cell_type": "code",
      "source": [
        "# Drop the 'risk_factor' column\n",
        "X_no_risk = X.drop(columns=['risk_factor'])\n",
        "\n",
        "# Split the data again\n",
        "from sklearn.model_selection import train_test_split\n",
        "\n",
        "X_train_no_risk, X_test_no_risk, y_train, y_test = train_test_split(X_no_risk, y, test_size=0.2, random_state=42)\n",
        "\n",
        "# Train a new RandomForest model\n",
        "from sklearn.ensemble import RandomForestClassifier\n",
        "\n",
        "rf_model_no_risk = RandomForestClassifier(random_state=42)\n",
        "rf_model_no_risk.fit(X_train_no_risk, y_train)\n",
        "\n",
        "# Predict and evaluate the model without 'risk_factor'\n",
        "from sklearn.metrics import accuracy_score, classification_report\n",
        "from sklearn.model_selection import cross_val_score  # Correct import\n",
        "\n",
        "y_pred_no_risk = rf_model_no_risk.predict(X_test_no_risk)\n",
        "print(\"Model Accuracy without 'risk_factor':\", accuracy_score(y_test, y_pred_no_risk))\n",
        "print(\"\\nClassification Report without 'risk_factor':\\n\", classification_report(y_test, y_pred_no_risk))\n",
        "\n",
        "# Cross-validation\n",
        "cross_val_scores_no_risk = cross_val_score(rf_model_no_risk, X_no_risk, y, cv=5)\n",
        "print(\"Cross-validation scores without 'risk_factor':\", cross_val_scores_no_risk)\n",
        "print(\"Mean cross-validation score without 'risk_factor':\", cross_val_scores_no_risk.mean())"
      ],
      "metadata": {
        "colab": {
          "base_uri": "https://localhost:8080/"
        },
        "id": "ZnwK787Oi_UU",
        "outputId": "a2072cde-42ca-4215-831e-cfa30d5a9f0e"
      },
      "execution_count": null,
      "outputs": [
        {
          "output_type": "stream",
          "name": "stdout",
          "text": [
            "Model Accuracy without 'risk_factor': 0.93\n",
            "\n",
            "Classification Report without 'risk_factor':\n",
            "               precision    recall  f1-score   support\n",
            "\n",
            "           0       0.92      0.94      0.93        48\n",
            "           1       0.94      0.92      0.93        52\n",
            "\n",
            "    accuracy                           0.93       100\n",
            "   macro avg       0.93      0.93      0.93       100\n",
            "weighted avg       0.93      0.93      0.93       100\n",
            "\n",
            "Cross-validation scores without 'risk_factor': [0.88      0.85      0.93      0.97      0.8989899]\n",
            "Mean cross-validation score without 'risk_factor': 0.9057979797979797\n"
          ]
        }
      ]
    },
    {
      "cell_type": "markdown",
      "source": [
        "# Visualize Confusion Matrix for Model Performance Evaluation"
      ],
      "metadata": {
        "id": "Ptpj-xa5onmO"
      }
    },
    {
      "cell_type": "code",
      "source": [
        "import matplotlib.pyplot as plt\n",
        "import seaborn as sns\n",
        "from sklearn.metrics import confusion_matrix\n",
        "\n",
        "# Your existing code for the confusion matrix visualization\n",
        "cm = confusion_matrix(y_test, y_pred_no_risk)\n",
        "plt.figure(figsize=(8, 6))\n",
        "sns.heatmap(cm, annot=True, fmt='d', cmap='Blues', xticklabels=['Class 0', 'Class 1'], yticklabels=['Class 0', 'Class 1'])\n",
        "plt.ylabel('True label')\n",
        "plt.xlabel('Predicted label')\n",
        "plt.title('Confusion Matrix')\n",
        "plt.show()"
      ],
      "metadata": {
        "colab": {
          "base_uri": "https://localhost:8080/",
          "height": 564
        },
        "id": "gvL4Cax9jCOO",
        "outputId": "7a2a6a47-940a-44a7-b754-3494768a3039"
      },
      "execution_count": null,
      "outputs": [
        {
          "output_type": "display_data",
          "data": {
            "text/plain": [
              "<Figure size 800x600 with 2 Axes>"
            ],
            "image/png": "[encoded data removed]"
          },
          "metadata": {}
        }
      ]
    },
    {
      "cell_type": "markdown",
      "source": [
        "# Train Random Forest Model without 'risk_factor' and Evaluate Cross-Validation Scores\n"
      ],
      "metadata": {
        "id": "O_mmaPtIot93"
      }
    },
    {
      "cell_type": "code",
      "source": [
        "from sklearn.model_selection import train_test_split, cross_val_score\n",
        "from sklearn.ensemble import RandomForestClassifier\n",
        "from sklearn.metrics import accuracy_score, classification_report\n",
        "\n",
        "# Drop the 'risk_factor' column if you haven't done this already\n",
        "X_no_risk = X.drop(columns=['risk_factor'])\n",
        "\n",
        "# Split the data\n",
        "X_train_no_risk, X_test_no_risk, y_train, y_test = train_test_split(X_no_risk, y, test_size=0.2, random_state=42)\n",
        "\n",
        "# Train the Random Forest model\n",
        "rf_model_no_risk = RandomForestClassifier(random_state=42)\n",
        "rf_model_no_risk.fit(X_train_no_risk, y_train)\n",
        "\n",
        "# Perform 5-fold cross-validation\n",
        "cv_scores_no_risk = cross_val_score(rf_model_no_risk, X_no_risk, y, cv=5)\n",
        "print(\"Cross-validation scores without 'risk_factor':\", cv_scores_no_risk)\n",
        "print(\"Mean cross-validation score without 'risk_factor':\", cv_scores_no_risk.mean())"
      ],
      "metadata": {
        "colab": {
          "base_uri": "https://localhost:8080/"
        },
        "id": "2NVxeSw_jF0o",
        "outputId": "1c61c54d-ac45-47be-eebd-959483744ec8"
      },
      "execution_count": null,
      "outputs": [
        {
          "output_type": "stream",
          "name": "stdout",
          "text": [
            "Cross-validation scores without 'risk_factor': [0.88      0.85      0.93      0.97      0.8989899]\n",
            "Mean cross-validation score without 'risk_factor': 0.9057979797979797\n"
          ]
        }
      ]
    },
    {
      "cell_type": "markdown",
      "source": [
        "# Train Random Forest Model without 'risk_factor' and Evaluate Predictions"
      ],
      "metadata": {
        "id": "HXdg1jT-o0JJ"
      }
    },
    {
      "cell_type": "code",
      "source": [
        "from sklearn.model_selection import train_test_split\n",
        "from sklearn.ensemble import RandomForestClassifier\n",
        "from sklearn.metrics import classification_report, accuracy_score\n",
        "\n",
        "# Drop the 'risk_factor' column\n",
        "X_no_risk = X.drop(columns=['risk_factor'])\n",
        "\n",
        "# Split the data\n",
        "X_train_no_risk, X_test_no_risk, y_train, y_test = train_test_split(X_no_risk, y, test_size=0.2, random_state=42)\n",
        "\n",
        "# Train the Random Forest model\n",
        "rf_model_no_risk = RandomForestClassifier(random_state=42)\n",
        "rf_model_no_risk.fit(X_train_no_risk, y_train)\n",
        "\n",
        "# Make predictions on the test set\n",
        "y_pred_no_risk = rf_model_no_risk.predict(X_test_no_risk)\n",
        "\n",
        "# Print the classification report\n",
        "print(classification_report(y_test, y_pred_no_risk))"
      ],
      "metadata": {
        "colab": {
          "base_uri": "https://localhost:8080/"
        },
        "id": "RiCg1siZjQzV",
        "outputId": "c01bff08-cffa-4047-a875-6445b4f23a5f"
      },
      "execution_count": null,
      "outputs": [
        {
          "output_type": "stream",
          "name": "stdout",
          "text": [
            "              precision    recall  f1-score   support\n",
            "\n",
            "           0       0.92      0.94      0.93        48\n",
            "           1       0.94      0.92      0.93        52\n",
            "\n",
            "    accuracy                           0.93       100\n",
            "   macro avg       0.93      0.93      0.93       100\n",
            "weighted avg       0.93      0.93      0.93       100\n",
            "\n"
          ]
        }
      ]
    },
    {
      "cell_type": "markdown",
      "source": [
        "# Visualize Feature Importances from Random Forest Model (without 'risk_factor')\n"
      ],
      "metadata": {
        "id": "4Bfe4daIo8Lo"
      }
    },
    {
      "cell_type": "code",
      "source": [
        "import matplotlib.pyplot as plt\n",
        "from sklearn.model_selection import train_test_split\n",
        "from sklearn.ensemble import RandomForestClassifier\n",
        "\n",
        "# Drop the 'risk_factor' column\n",
        "X_no_risk = X.drop(columns=['risk_factor'])\n",
        "\n",
        "# Split the data\n",
        "X_train_no_risk, X_test_no_risk, y_train, y_test = train_test_split(X_no_risk, y, test_size=0.2, random_state=42)\n",
        "\n",
        "# Train the Random Forest model\n",
        "rf_model_no_risk = RandomForestClassifier(random_state=42)\n",
        "rf_model_no_risk.fit(X_train_no_risk, y_train)\n",
        "\n",
        "# Get feature importances\n",
        "importances = rf_model_no_risk.feature_importances_\n",
        "feature_names = X_no_risk.columns\n",
        "\n",
        "# Plot feature importances\n",
        "plt.figure(figsize=(10, 6))\n",
        "plt.barh(feature_names, importances)\n",
        "plt.xlabel(\"Feature Importance\")\n",
        "plt.title(\"Feature Importance for Glaucoma Prediction (without 'risk_factor')\")\n",
        "plt.show()"
      ],
      "metadata": {
        "colab": {
          "base_uri": "https://localhost:8080/",
          "height": 500
        },
        "id": "eLa0ys4cjWy3",
        "outputId": "7a34eede-831a-4873-8659-b53c45c8fce8"
      },
      "execution_count": null,
      "outputs": [
        {
          "output_type": "display_data",
          "data": {
            "text/plain": [
              "<Figure size 1000x600 with 1 Axes>"
            ],
            "image/png": "[encoded data removed]"
          },
          "metadata": {}
        }
      ]
    },
    {
      "cell_type": "markdown",
      "source": [
        "# Plot Feature Importance for Glaucoma Prediction (without 'risk_factor')\n"
      ],
      "metadata": {
        "id": "_5r0wjZeo-Dc"
      }
    },
    {
      "cell_type": "code",
      "source": [
        "# Plot feature importance without 'risk_factor'\n",
        "import matplotlib.pyplot as plt\n",
        "import numpy as np\n",
        "\n",
        "feature_importances = rf_model_no_risk.feature_importances_\n",
        "indices = np.argsort(feature_importances)[::-1]\n",
        "\n",
        "plt.figure(figsize=(10, 6))\n",
        "plt.title(\"Feature Importance for Glaucoma Prediction (without 'risk_factor')\")\n",
        "plt.bar(range(X_no_risk.shape[1]), feature_importances[indices], align=\"center\")\n",
        "plt.xticks(range(X_no_risk.shape[1]), X_no_risk.columns[indices], rotation=90)\n",
        "plt.xlabel(\"Feature Importance\")\n",
        "plt.show()"
      ],
      "metadata": {
        "id": "NWB40ILCmlhK",
        "colab": {
          "base_uri": "https://localhost:8080/",
          "height": 696
        },
        "outputId": "732f1888-5d47-42be-b889-e14975e03da5"
      },
      "execution_count": null,
      "outputs": [
        {
          "output_type": "display_data",
          "data": {
            "text/plain": [
              "<Figure size 1000x600 with 1 Axes>"
            ],
            "image/png": "[encoded data removed]"
          },
          "metadata": {}
        }
      ]
    },
    {
      "cell_type": "markdown",
      "source": [
        "# Confusion Matrix Visualization for Glaucoma Prediction (without 'risk_factor')\n"
      ],
      "metadata": {
        "id": "1Z4pRntLpKu-"
      }
    },
    {
      "cell_type": "code",
      "source": [
        "from sklearn.metrics import confusion_matrix\n",
        "import seaborn as sns\n",
        "\n",
        "cm = confusion_matrix(y_test, y_pred_no_risk)\n",
        "plt.figure(figsize=(8, 6))\n",
        "sns.heatmap(cm, annot=True, fmt='d', cmap='Blues', xticklabels=['Class 0', 'Class 1'], yticklabels=['Class 0', 'Class 1'])\n",
        "plt.ylabel('True label')\n",
        "plt.xlabel('Predicted label')\n",
        "plt.title('Confusion Matrix')\n",
        "plt.show()"
      ],
      "metadata": {
        "id": "W8DcBLpBn3AH",
        "colab": {
          "base_uri": "https://localhost:8080/",
          "height": 564
        },
        "outputId": "b0609613-3d6a-4e81-de98-54fcb7f10444"
      },
      "execution_count": null,
      "outputs": [
        {
          "output_type": "display_data",
          "data": {
            "text/plain": [
              "<Figure size 800x600 with 2 Axes>"
            ],
            "image/png": "[encoded data removed]"
          },
          "metadata": {}
        }
      ]
    },
    {
      "cell_type": "markdown",
      "source": [
        "# Feature Importance Visualization for Glaucoma Prediction (without 'risk_factor')\n"
      ],
      "metadata": {
        "id": "NY7E4oe5pSEf"
      }
    },
    {
      "cell_type": "code",
      "source": [
        "import numpy as np  # Import NumPy\n",
        "import matplotlib.pyplot as plt\n",
        "from sklearn.model_selection import train_test_split\n",
        "from sklearn.ensemble import RandomForestClassifier\n",
        "\n",
        "# Drop the 'risk_factor' column\n",
        "X_no_risk = X.drop(columns=['risk_factor'])\n",
        "\n",
        "# Split the data\n",
        "X_train_no_risk, X_test_no_risk, y_train, y_test = train_test_split(X_no_risk, y, test_size=0.2, random_state=42)\n",
        "\n",
        "# Train the Random Forest model\n",
        "rf_model_no_risk = RandomForestClassifier(random_state=42)\n",
        "rf_model_no_risk.fit(X_train_no_risk, y_train)\n",
        "\n",
        "# Get feature importances\n",
        "importances = rf_model_no_risk.feature_importances_\n",
        "indices = np.argsort(importances)[::-1]\n",
        "\n",
        "# Plot feature importances\n",
        "plt.figure(figsize=(10, 6))\n",
        "plt.title(\"Feature Importance for Glaucoma Prediction (without 'risk_factor')\")\n",
        "plt.bar(range(X_no_risk.shape[1]), importances[indices], align=\"center\")\n",
        "plt.xticks(range(X_no_risk.shape[1]), X_no_risk.columns[indices], rotation=90)\n",
        "plt.xlabel(\"Feature\")\n",
        "plt.ylabel(\"Importance\")\n",
        "plt.show()"
      ],
      "metadata": {
        "colab": {
          "base_uri": "https://localhost:8080/",
          "height": 691
        },
        "id": "WhSjdZIeGgb6",
        "outputId": "8c5bdc0e-011d-4a85-9c20-aeaaf49de89d"
      },
      "execution_count": null,
      "outputs": [
        {
          "output_type": "display_data",
          "data": {
            "text/plain": [
              "<Figure size 1000x600 with 1 Axes>"
            ],
            "image/png": "[encoded data removed]"
          },
          "metadata": {}
        }
      ]
    },
    {
      "cell_type": "markdown",
      "source": [
        "# Hyperparameter Tuning for Random Forest Model Using Grid Search"
      ],
      "metadata": {
        "id": "4XSkJEYxpYiR"
      }
    },
    {
      "cell_type": "code",
      "source": [
        "from sklearn.model_selection import GridSearchCV\n",
        "\n",
        "param_grid = {\n",
        "    'n_estimators': [50, 100, 200],\n",
        "    'max_depth': [None, 10, 20, 30],\n",
        "    'min_samples_split': [2, 5, 10]\n",
        "}\n",
        "\n",
        "grid_search = GridSearchCV(estimator=rf_model_no_risk, param_grid=param_grid, cv=5, scoring='accuracy')\n",
        "grid_search.fit(X_train_no_risk, y_train)\n",
        "\n",
        "print(\"Best Parameters:\", grid_search.best_params_)"
      ],
      "metadata": {
        "colab": {
          "base_uri": "https://localhost:8080/"
        },
        "id": "Dy8RQm77GlJa",
        "outputId": "afc65ff5-1ac8-42a1-e746-1682a6dc58a7"
      },
      "execution_count": null,
      "outputs": [
        {
          "output_type": "stream",
          "name": "stdout",
          "text": [
            "Best Parameters: {'max_depth': None, 'min_samples_split': 2, 'n_estimators': 50}\n"
          ]
        }
      ]
    },
    {
      "cell_type": "markdown",
      "source": [
        "# Evaluate the Tuned Random Forest Model with Cross-Validation"
      ],
      "metadata": {
        "id": "PCOXFknCpe2l"
      }
    },
    {
      "cell_type": "code",
      "source": [
        "cross_val_scores_no_risk = cross_val_score(grid_search.best_estimator_, X_no_risk, y, cv=5)\n",
        "print(\"Mean cross-validation score after tuning:\", cross_val_scores_no_risk.mean())"
      ],
      "metadata": {
        "colab": {
          "base_uri": "https://localhost:8080/"
        },
        "id": "DvhCXOtGHMW1",
        "outputId": "176d2855-6fc5-4b06-8e0d-2a1a50c6b87b"
      },
      "execution_count": null,
      "outputs": [
        {
          "output_type": "stream",
          "name": "stdout",
          "text": [
            "Mean cross-validation score after tuning: 0.9077777777777776\n"
          ]
        }
      ]
    },
    {
      "cell_type": "markdown",
      "source": [
        "# Train and Evaluate Random Forest Model with Best Parameters\n"
      ],
      "metadata": {
        "id": "Tmzq4eINpkfv"
      }
    },
    {
      "cell_type": "code",
      "source": [
        "from sklearn.ensemble import RandomForestClassifier\n",
        "from sklearn.model_selection import train_test_split, cross_val_score\n",
        "from sklearn.metrics import accuracy_score, classification_report\n",
        "\n",
        "# Assuming you have your feature set (X) and target (y)\n",
        "X_train, X_test, y_train, y_test = train_test_split(X, y, test_size=0.2, random_state=42)\n",
        "\n",
        "# Initialize the Random Forest Classifier with the best parameters\n",
        "rf_model_best = RandomForestClassifier(max_depth=None, min_samples_split=2, n_estimators=50, random_state=42)\n",
        "\n",
        "# Fit the model\n",
        "rf_model_best.fit(X_train, y_train)\n",
        "\n",
        "# Predictions\n",
        "y_pred_best = rf_model_best.predict(X_test)\n",
        "\n",
        "# Evaluation\n",
        "print(\"Model Accuracy:\", accuracy_score(y_test, y_pred_best))\n",
        "print(\"\\nClassification Report:\\n\", classification_report(y_test, y_pred_best))\n",
        "\n",
        "# Cross-validation\n",
        "cv_scores_best = cross_val_score(rf_model_best, X, y, cv=5)\n",
        "print(\"Cross-validation scores:\", cv_scores_best)\n",
        "print(\"Mean cross-validation score:\", cv_scores_best.mean())"
      ],
      "metadata": {
        "colab": {
          "base_uri": "https://localhost:8080/"
        },
        "id": "8h_LOEJtHhre",
        "outputId": "ccb59f35-1490-40f5-91ab-e680b40ce432"
      },
      "execution_count": null,
      "outputs": [
        {
          "output_type": "stream",
          "name": "stdout",
          "text": [
            "Model Accuracy: 1.0\n",
            "\n",
            "Classification Report:\n",
            "               precision    recall  f1-score   support\n",
            "\n",
            "           0       1.00      1.00      1.00        48\n",
            "           1       1.00      1.00      1.00        52\n",
            "\n",
            "    accuracy                           1.00       100\n",
            "   macro avg       1.00      1.00      1.00       100\n",
            "weighted avg       1.00      1.00      1.00       100\n",
            "\n",
            "Cross-validation scores: [1. 1. 1. 1. 1.]\n",
            "Mean cross-validation score: 1.0\n"
          ]
        }
      ]
    },
    {
      "cell_type": "markdown",
      "source": [
        "# Cross-Validation for Random Forest Model without 'risk_factor'"
      ],
      "metadata": {
        "id": "TUaR5Vonpr7_"
      }
    },
    {
      "cell_type": "code",
      "source": [
        "# Assuming your original target variable is `y` and you want to keep it as it is\n",
        "# If you haven't defined y_no_risk yet, just use y\n",
        "y_no_risk = y  # Keep the original target variable, or redefine if needed\n",
        "\n",
        "from sklearn.model_selection import cross_val_score\n",
        "\n",
        "# Perform 5-fold cross-validation\n",
        "cv_scores = cross_val_score(rf_model_no_risk, X_no_risk, y_no_risk, cv=5)\n",
        "print(\"Cross-validation scores:\", cv_scores)\n",
        "print(\"Mean cross-validation score:\", cv_scores.mean())\n"
      ],
      "metadata": {
        "colab": {
          "base_uri": "https://localhost:8080/"
        },
        "id": "8_9_4fNVM8AU",
        "outputId": "0c7ab8de-615a-488c-cfe9-487427ffeb7d"
      },
      "execution_count": null,
      "outputs": [
        {
          "output_type": "stream",
          "name": "stdout",
          "text": [
            "Cross-validation scores: [0.88      0.85      0.93      0.97      0.8989899]\n",
            "Mean cross-validation score: 0.9057979797979797\n"
          ]
        }
      ]
    },
    {
      "cell_type": "markdown",
      "source": [
        "# Tuning and Evaluating Random Forest Model\n"
      ],
      "metadata": {
        "id": "AZnxBE5bpxEu"
      }
    },
    {
      "cell_type": "code",
      "source": [
        "from sklearn.ensemble import RandomForestClassifier\n",
        "\n",
        "# Tune your Random Forest parameters\n",
        "rf_model_tuned = RandomForestClassifier(max_depth=5, min_samples_split=10, n_estimators=100, random_state=42)\n",
        "rf_model_tuned.fit(X_train_no_risk, y_train)\n",
        "\n",
        "# Evaluate the tuned model\n",
        "y_pred_tuned = rf_model_tuned.predict(X_test_no_risk)\n",
        "print(\"Tuned Model Accuracy:\", accuracy_score(y_test, y_pred_tuned))\n"
      ],
      "metadata": {
        "colab": {
          "base_uri": "https://localhost:8080/"
        },
        "id": "WP_5SGO6RUm5",
        "outputId": "7637e2c8-22f5-462b-858c-95d3dc839ef4"
      },
      "execution_count": null,
      "outputs": [
        {
          "output_type": "stream",
          "name": "stdout",
          "text": [
            "Tuned Model Accuracy: 0.91\n"
          ]
        }
      ]
    },
    {
      "cell_type": "markdown",
      "source": [
        "# Plotting Feature Importance for Tuned Random Forest Model\n"
      ],
      "metadata": {
        "id": "9I3Erm7ip2I9"
      }
    },
    {
      "cell_type": "code",
      "source": [
        "importances = rf_model_tuned.feature_importances_\n",
        "indices = np.argsort(importances)[::-1]\n",
        "\n",
        "plt.figure(figsize=(10, 6))\n",
        "plt.title(\"Feature Importance for Glaucoma Prediction\")\n",
        "plt.bar(range(X_no_risk.shape[1]), importances[indices], align=\"center\")\n",
        "plt.xticks(range(X_no_risk.shape[1]), X_no_risk.columns[indices], rotation=90)\n",
        "plt.xlabel(\"Feature\")\n",
        "plt.ylabel(\"Importance\")\n",
        "plt.show()"
      ],
      "metadata": {
        "colab": {
          "base_uri": "https://localhost:8080/",
          "height": 691
        },
        "id": "1-WTDKrDRruP",
        "outputId": "844dca34-d4f6-4c5f-ef17-ff9f976c6018"
      },
      "execution_count": null,
      "outputs": [
        {
          "output_type": "display_data",
          "data": {
            "text/plain": [
              "<Figure size 1000x600 with 1 Axes>"
            ],
            "image/png": "[encoded data removed]"
          },
          "metadata": {}
        }
      ]
    },
    {
      "cell_type": "markdown",
      "source": [
        "# Visualizing the Confusion Matrix for Tuned Random Forest Model"
      ],
      "metadata": {
        "id": "dvfJ9luOp81C"
      }
    },
    {
      "cell_type": "code",
      "source": [
        "from sklearn.metrics import confusion_matrix, ConfusionMatrixDisplay\n",
        "\n",
        "cm = confusion_matrix(y_test, y_pred_tuned)\n",
        "disp = ConfusionMatrixDisplay(confusion_matrix=cm)\n",
        "disp.plot(cmap='Blues')\n",
        "plt.title(\"Confusion Matrix\")\n",
        "plt.show()"
      ],
      "metadata": {
        "colab": {
          "base_uri": "https://localhost:8080/",
          "height": 472
        },
        "id": "XvwNA7SMRuff",
        "outputId": "cee87709-86f8-4d80-feae-7f7108a6aae5"
      },
      "execution_count": null,
      "outputs": [
        {
          "output_type": "display_data",
          "data": {
            "text/plain": [
              "<Figure size 640x480 with 2 Axes>"
            ],
            "image/png": "[encoded data removed]"
          },
          "metadata": {}
        }
      ]
    },
    {
      "cell_type": "markdown",
      "source": [
        "# Hyperparameter Tuning for Random Forest using GridSearchCV"
      ],
      "metadata": {
        "id": "iZQQiBXrqCnu"
      }
    },
    {
      "cell_type": "code",
      "source": [
        "from sklearn.model_selection import GridSearchCV\n",
        "from sklearn.ensemble import RandomForestClassifier\n",
        "\n",
        "# Define the model\n",
        "rf_model = RandomForestClassifier(random_state=42)\n",
        "\n",
        "# Set the parameters you want to tune\n",
        "param_grid = {\n",
        "    'n_estimators': [50, 100, 200],\n",
        "    'max_depth': [None, 10, 20],\n",
        "    'min_samples_split': [2, 5, 10],\n",
        "    'min_samples_leaf': [1, 2, 4]\n",
        "}\n",
        "\n",
        "# Create a GridSearchCV object\n",
        "grid_search = GridSearchCV(estimator=rf_model, param_grid=param_grid,\n",
        "                           cv=5, scoring='accuracy', verbose=2, n_jobs=-1)\n",
        "\n",
        "# Fit the grid search to the data\n",
        "grid_search.fit(X_train_no_risk, y_train)\n",
        "\n",
        "# Get the best parameters\n",
        "best_params = grid_search.best_params_\n",
        "print(\"Best Parameters:\", best_params)"
      ],
      "metadata": {
        "colab": {
          "base_uri": "https://localhost:8080/"
        },
        "id": "_Rot_sK5RzZ5",
        "outputId": "b2ba98f5-b51e-4c89-e1e5-ea1699cbbfab"
      },
      "execution_count": null,
      "outputs": [
        {
          "output_type": "stream",
          "name": "stdout",
          "text": [
            "Fitting 5 folds for each of 81 candidates, totalling 405 fits\n",
            "Best Parameters: {'max_depth': None, 'min_samples_leaf': 1, 'min_samples_split': 2, 'n_estimators': 50}\n"
          ]
        }
      ]
    },
    {
      "cell_type": "markdown",
      "source": [
        "# Training the Random Forest Model with Best Parameters and Feature Selection"
      ],
      "metadata": {
        "id": "2I5lfZcEqIVR"
      }
    },
    {
      "cell_type": "code",
      "source": [
        "# Train the model with the best parameters\n",
        "best_rf_model = RandomForestClassifier(**best_params, random_state=42)\n",
        "best_rf_model.fit(X_train_no_risk, y_train)\n",
        "\n",
        "# Get feature importances\n",
        "importances = best_rf_model.feature_importances_\n",
        "indices = np.argsort(importances)[::-1]\n",
        "\n",
        "# Select top N features based on importance (e.g., top 5)\n",
        "top_n = 5\n",
        "top_features = X_no_risk.columns[indices][:top_n]\n",
        "X_selected = X_no_risk[top_features]\n",
        "\n",
        "# Re-split the data with selected features\n",
        "X_train_selected, X_test_selected, y_train_selected, y_test_selected = train_test_split(X_selected, y, test_size=0.2, random_state=42)"
      ],
      "metadata": {
        "id": "aOp4BukJUWQA"
      },
      "execution_count": null,
      "outputs": []
    },
    {
      "cell_type": "markdown",
      "source": [
        "# Training and Evaluating the Random Forest Model with Selected Features\n"
      ],
      "metadata": {
        "id": "FeT8FWgyqLiP"
      }
    },
    {
      "cell_type": "code",
      "source": [
        "# Fit the model with selected features\n",
        "best_rf_model.fit(X_train_selected, y_train_selected)\n",
        "\n",
        "# Predict and evaluate\n",
        "y_pred_selected = best_rf_model.predict(X_test_selected)\n",
        "\n",
        "from sklearn.metrics import accuracy_score, classification_report\n",
        "\n",
        "# Evaluate the model\n",
        "print(\"Model Accuracy with Selected Features:\", accuracy_score(y_test_selected, y_pred_selected))\n",
        "print(\"\\nClassification Report:\\n\", classification_report(y_test_selected, y_pred_selected))"
      ],
      "metadata": {
        "colab": {
          "base_uri": "https://localhost:8080/"
        },
        "id": "kV6V8gh0VWGF",
        "outputId": "f4cc2449-1177-4b13-e0e0-3b55d834d20e"
      },
      "execution_count": null,
      "outputs": [
        {
          "output_type": "stream",
          "name": "stdout",
          "text": [
            "Model Accuracy with Selected Features: 0.93\n",
            "\n",
            "Classification Report:\n",
            "               precision    recall  f1-score   support\n",
            "\n",
            "           0       0.92      0.94      0.93        48\n",
            "           1       0.94      0.92      0.93        52\n",
            "\n",
            "    accuracy                           0.93       100\n",
            "   macro avg       0.93      0.93      0.93       100\n",
            "weighted avg       0.93      0.93      0.93       100\n",
            "\n"
          ]
        }
      ]
    },
    {
      "cell_type": "markdown",
      "source": [
        "# Cross-Validation of the Random Forest Model with Selected Features\n"
      ],
      "metadata": {
        "id": "n5eDgLETqYZ1"
      }
    },
    {
      "cell_type": "code",
      "source": [
        "from sklearn.model_selection import cross_val_score\n",
        "\n",
        "# Perform 5-fold cross-validation\n",
        "cv_scores = cross_val_score(best_rf_model, X_selected, y, cv=5)\n",
        "print(\"Cross-validation scores:\", cv_scores)\n",
        "print(\"Mean cross-validation score:\", cv_scores.mean())"
      ],
      "metadata": {
        "colab": {
          "base_uri": "https://localhost:8080/"
        },
        "id": "fn7QgN-HVZNI",
        "outputId": "f290a0ad-1f32-47a8-e86d-5af03879ed28"
      },
      "execution_count": null,
      "outputs": [
        {
          "output_type": "stream",
          "name": "stdout",
          "text": [
            "Cross-validation scores: [0.91       0.85       0.96       0.96       0.85858586]\n",
            "Mean cross-validation score: 0.9077171717171716\n"
          ]
        }
      ]
    },
    {
      "cell_type": "markdown",
      "source": [
        "# Plotting Feature Importance of the Tuned Random Forest Model with Selected Features\n"
      ],
      "metadata": {
        "id": "lqNDL7XrqXus"
      }
    },
    {
      "cell_type": "code",
      "source": [
        "importances = best_rf_model.feature_importances_\n",
        "indices = np.argsort(importances)[::-1]\n",
        "\n",
        "plt.figure(figsize=(10, 6))\n",
        "plt.title(\"Feature Importance\")\n",
        "plt.bar(range(X_selected.shape[1]), importances[indices], align=\"center\")\n",
        "plt.xticks(range(X_selected.shape[1]), X_selected.columns[indices], rotation=90)\n",
        "plt.xlabel(\"Feature\")\n",
        "plt.ylabel(\"Importance\")\n",
        "plt.show()"
      ],
      "metadata": {
        "colab": {
          "base_uri": "https://localhost:8080/",
          "height": 655
        },
        "id": "jEMaOhHQVcfj",
        "outputId": "445118d3-f131-4277-ba1e-308c494d8f02"
      },
      "execution_count": null,
      "outputs": [
        {
          "output_type": "display_data",
          "data": {
            "text/plain": [
              "<Figure size 1000x600 with 1 Axes>"
            ],
            "image/png": "[encoded data removed]"
          },
          "metadata": {}
        }
      ]
    },
    {
      "cell_type": "markdown",
      "source": [
        "# Calculate and Print the ROC AUC Score for the Tuned Random Forest Model\n"
      ],
      "metadata": {
        "id": "3EBA0Sw6qktL"
      }
    },
    {
      "cell_type": "code",
      "source": [
        "from sklearn.metrics import roc_auc_score\n",
        "\n",
        "y_pred_proba = best_rf_model.predict_proba(X_test_selected)[:, 1]\n",
        "roc_auc = roc_auc_score(y_test_selected, y_pred_proba)\n",
        "print(\"ROC AUC Score:\", roc_auc)"
      ],
      "metadata": {
        "colab": {
          "base_uri": "https://localhost:8080/"
        },
        "id": "Zz0IvOJSW5VZ",
        "outputId": "bdf9e4a0-1e3d-446b-e10a-bb95371e0b82"
      },
      "execution_count": null,
      "outputs": [
        {
          "output_type": "stream",
          "name": "stdout",
          "text": [
            "ROC AUC Score: 0.953125\n"
          ]
        }
      ]
    },
    {
      "cell_type": "markdown",
      "source": [
        "# Plot the ROC Curve for the Tuned Random Forest Model"
      ],
      "metadata": {
        "id": "W7sI-_Amqr6n"
      }
    },
    {
      "cell_type": "code",
      "source": [
        "from sklearn.metrics import roc_curve\n",
        "\n",
        "fpr, tpr, thresholds = roc_curve(y_test_selected, y_pred_proba)\n",
        "\n",
        "plt.figure()\n",
        "plt.plot(fpr, tpr, label='ROC curve (area = {:.2f})'.format(roc_auc))\n",
        "plt.plot([0, 1], [0, 1], 'k--')  # Diagonal line\n",
        "plt.xlim([0.0, 1.0])\n",
        "plt.ylim([0.0, 1.05])\n",
        "plt.xlabel('False Positive Rate')\n",
        "plt.ylabel('True Positive Rate')\n",
        "plt.title('Receiver Operating Characteristic (ROC) Curve')\n",
        "plt.legend(loc='lower right')\n",
        "plt.show()"
      ],
      "metadata": {
        "colab": {
          "base_uri": "https://localhost:8080/",
          "height": 472
        },
        "id": "jmYHLD3UW9MG",
        "outputId": "b457e433-42b1-49b3-f61b-2a27ad56b897"
      },
      "execution_count": null,
      "outputs": [
        {
          "output_type": "display_data",
          "data": {
            "text/plain": [
              "<Figure size 640x480 with 1 Axes>"
            ],
            "image/png": "[encoded data removed]"
          },
          "metadata": {}
        }
      ]
    },
    {
      "cell_type": "markdown",
      "source": [
        "# Install the imbalanced-learn library"
      ],
      "metadata": {
        "id": "o0m3MDrFq7kI"
      }
    },
    {
      "cell_type": "code",
      "source": [
        "pip install imbalanced-learn"
      ],
      "metadata": {
        "colab": {
          "base_uri": "https://localhost:8080/"
        },
        "id": "tNwe26TbgZRP",
        "outputId": "b8cdcbe6-f676-44b3-dd33-43e59464aba2"
      },
      "execution_count": null,
      "outputs": [
        {
          "output_type": "stream",
          "name": "stdout",
          "text": [
            "Requirement already satisfied: imbalanced-learn in /usr/local/lib/python3.10/dist-packages (0.12.4)\n",
            "Requirement already satisfied: numpy>=1.17.3 in /usr/local/lib/python3.10/dist-packages (from imbalanced-learn) (1.26.4)\n",
            "Requirement already satisfied: scipy>=1.5.0 in /usr/local/lib/python3.10/dist-packages (from imbalanced-learn) (1.13.1)\n",
            "Requirement already satisfied: scikit-learn>=1.0.2 in /usr/local/lib/python3.10/dist-packages (from imbalanced-learn) (1.5.2)\n",
            "Requirement already satisfied: joblib>=1.1.1 in /usr/local/lib/python3.10/dist-packages (from imbalanced-learn) (1.4.2)\n",
            "Requirement already satisfied: threadpoolctl>=2.0.0 in /usr/local/lib/python3.10/dist-packages (from imbalanced-learn) (3.5.0)\n"
          ]
        }
      ]
    },
    {
      "cell_type": "markdown",
      "source": [
        "# Import the SMOTE class for oversampling the minority class"
      ],
      "metadata": {
        "id": "B2Z_bOzOrohU"
      }
    },
    {
      "cell_type": "code",
      "source": [
        "from imblearn.over_sampling import SMOTE"
      ],
      "metadata": {
        "id": "UnU-tR5Ggq1f"
      },
      "execution_count": null,
      "outputs": []
    },
    {
      "cell_type": "markdown",
      "source": [
        "# Apply SMOTE to balance the training data by generating synthetic samples for the minority class"
      ],
      "metadata": {
        "id": "Q-qkIu-Ur4pZ"
      }
    },
    {
      "cell_type": "code",
      "source": [
        "# Initialize SMOTE\n",
        "smote = SMOTE(random_state=42)\n",
        "\n",
        "# Fit and resample the training data\n",
        "X_resampled, y_resampled = smote.fit_resample(X_train_no_risk, y_train)"
      ],
      "metadata": {
        "id": "eDuwWd5zguo0"
      },
      "execution_count": null,
      "outputs": []
    },
    {
      "cell_type": "markdown",
      "source": [
        "# Train and predict Random Forest model on resampled data using SMOTE and evaluate its performance on the original test set"
      ],
      "metadata": {
        "id": "zvrZlblyr_o2"
      }
    },
    {
      "cell_type": "code",
      "source": [
        "rf_model_smote = RandomForestClassifier(random_state=42)\n",
        "rf_model_smote.fit(X_resampled, y_resampled)\n",
        "\n",
        "# Predict and evaluate\n",
        "y_pred_smote = rf_model_smote.predict(X_test_no_risk)\n",
        "print(\"Model Accuracy after SMOTE:\", accuracy_score(y_test, y_pred_smote))\n",
        "print(\"\\nClassification Report after SMOTE:\\n\", classification_report(y_test, y_pred_smote))"
      ],
      "metadata": {
        "colab": {
          "base_uri": "https://localhost:8080/"
        },
        "id": "JdyEVRlVgwNT",
        "outputId": "43a77be0-a2ea-4712-edcc-1b34a704eea6"
      },
      "execution_count": null,
      "outputs": [
        {
          "output_type": "stream",
          "name": "stdout",
          "text": [
            "Model Accuracy after SMOTE: 0.94\n",
            "\n",
            "Classification Report after SMOTE:\n",
            "               precision    recall  f1-score   support\n",
            "\n",
            "           0       0.92      0.96      0.94        48\n",
            "           1       0.96      0.92      0.94        52\n",
            "\n",
            "    accuracy                           0.94       100\n",
            "   macro avg       0.94      0.94      0.94       100\n",
            "weighted avg       0.94      0.94      0.94       100\n",
            "\n"
          ]
        }
      ]
    },
    {
      "cell_type": "markdown",
      "source": [
        "# Import Gradient Boosting Classifier from scikit-learn for model training and prediction"
      ],
      "metadata": {
        "id": "2DNVQ31ysKXZ"
      }
    },
    {
      "cell_type": "code",
      "source": [
        "from sklearn.ensemble import GradientBoostingClassifier"
      ],
      "metadata": {
        "id": "l3TnP2ANgyoD"
      },
      "execution_count": null,
      "outputs": []
    },
    {
      "cell_type": "markdown",
      "source": [
        "# Initialize and train a Gradient Boosting Classifier, then predict and evaluate model performance"
      ],
      "metadata": {
        "id": "OuKY1gJisRn-"
      }
    },
    {
      "cell_type": "code",
      "source": [
        "gb_model = GradientBoostingClassifier(random_state=42)\n",
        "gb_model.fit(X_train_no_risk, y_train)\n",
        "\n",
        "# Predict and evaluate\n",
        "y_pred_gb = gb_model.predict(X_test_no_risk)\n",
        "print(\"Model Accuracy using Gradient Boosting:\", accuracy_score(y_test, y_pred_gb))\n",
        "print(\"\\nClassification Report using Gradient Boosting:\\n\", classification_report(y_test, y_pred_gb))"
      ],
      "metadata": {
        "colab": {
          "base_uri": "https://localhost:8080/"
        },
        "id": "n0HVds_og6an",
        "outputId": "0789bc5b-fd28-46a1-8ef1-33a0515e412f"
      },
      "execution_count": null,
      "outputs": [
        {
          "output_type": "stream",
          "name": "stdout",
          "text": [
            "Model Accuracy using Gradient Boosting: 0.94\n",
            "\n",
            "Classification Report using Gradient Boosting:\n",
            "               precision    recall  f1-score   support\n",
            "\n",
            "           0       0.92      0.96      0.94        48\n",
            "           1       0.96      0.92      0.94        52\n",
            "\n",
            "    accuracy                           0.94       100\n",
            "   macro avg       0.94      0.94      0.94       100\n",
            "weighted avg       0.94      0.94      0.94       100\n",
            "\n"
          ]
        }
      ]
    },
    {
      "cell_type": "code",
      "source": [],
      "metadata": {
        "id": "TUCkGq0_g8IR"
      },
      "execution_count": null,
      "outputs": []
    }
  ]
}